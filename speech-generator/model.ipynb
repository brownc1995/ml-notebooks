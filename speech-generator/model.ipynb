{
 "cells": [
  {
   "cell_type": "markdown",
   "metadata": {},
   "source": [
    "# Speech Generator\n",
    "\n",
    "What better use of Machine Learning than to generate synthetic Trump speeches..."
   ]
  },
  {
   "cell_type": "code",
   "execution_count": 1,
   "metadata": {
    "ExecuteTime": {
     "end_time": "2019-12-31T11:40:17.145171Z",
     "start_time": "2019-12-31T11:40:14.988234Z"
    }
   },
   "outputs": [],
   "source": [
    "import logging\n",
    "import os\n",
    "import re\n",
    "from datetime import datetime\n",
    "from typing import Tuple\n",
    "\n",
    "import tensorflow as tf\n",
    "\n",
    "from utils import (build_model, generate_text, get_checkpoint_callback,\n",
    "                   get_tensorboard_callback, load_text, loss_func,\n",
    "                   split_input_target)\n",
    "\n",
    "%load_ext tensorboard"
   ]
  },
  {
   "cell_type": "code",
   "execution_count": 2,
   "metadata": {
    "ExecuteTime": {
     "end_time": "2019-12-31T11:40:17.786076Z",
     "start_time": "2019-12-31T11:40:17.782273Z"
    }
   },
   "outputs": [],
   "source": [
    "logger = logging.getLogger(__name__)"
   ]
  },
  {
   "cell_type": "markdown",
   "metadata": {},
   "source": [
    "## Constants\n",
    "A little explanation for some of the constants:\n",
    "- ```CKPT_DIR```: Checkpoints directory;\n",
    "- ```SEQ_LENGTH```: The maximum length sentence we want for a single input in characters;\n",
    "- ```BUFFER_SIZE```: Buffer size to shuffle the dataset (TF data is designed to work with possibly infinite sequences, so it doesn't attempt to shuffle the entire sequence in memory. Instead, it maintains a buffer in which it shuffles elements);\n",
    "- ```VOCAB_SIZE```: Length of the vocabulary in chars."
   ]
  },
  {
   "cell_type": "code",
   "execution_count": 3,
   "metadata": {
    "ExecuteTime": {
     "end_time": "2019-12-31T11:40:19.039992Z",
     "start_time": "2019-12-31T11:40:19.032556Z"
    }
   },
   "outputs": [],
   "source": [
    "# CONSTANTS/config\n",
    "CKPT_DIR = 'training_checkpoints'\n",
    "DATA_FILE = 'data/2016_campaign_speeches.txt'\n",
    "EPOCHS = 30\n",
    "SEQ_LENGTH = 100\n",
    "BATCH_SIZE = 64\n",
    "BUFFER_SIZE = 10000\n",
    "EMBEDDING_DIM = 256\n",
    "RNN_UNITS = 1024"
   ]
  },
  {
   "cell_type": "markdown",
   "metadata": {},
   "source": [
    "## Import & clean data\n",
    "\n",
    "First let's import the training data (which can be found [here](https://github.com/ryanmcdermott/trump-speeches/blob/master/speeches.txt)). This data comprises the transcripts of Trump's 2016 campaign speeches. "
   ]
  },
  {
   "cell_type": "code",
   "execution_count": 4,
   "metadata": {
    "ExecuteTime": {
     "end_time": "2019-12-31T11:40:20.320994Z",
     "start_time": "2019-12-31T11:40:20.279035Z"
    }
   },
   "outputs": [],
   "source": [
    "text = load_text(DATA_FILE)"
   ]
  },
  {
   "cell_type": "code",
   "execution_count": 5,
   "metadata": {
    "ExecuteTime": {
     "end_time": "2019-12-31T11:40:20.966280Z",
     "start_time": "2019-12-31T11:40:20.945041Z"
    }
   },
   "outputs": [
    {
     "name": "stderr",
     "output_type": "stream",
     "text": [
      "2019-12-31 11:40:20,960 - __main__ - INFO - Length of text: 892783 characters\n",
      "2019-12-31 11:40:20,962 - __main__ - INFO - 92 unique characters\n"
     ]
    }
   ],
   "source": [
    "vocab = sorted(set(text))\n",
    "VOCAB_SIZE = len(vocab)\n",
    "logger.info(f'Length of text: {len(text)} characters')\n",
    "logger.info(f'{len(vocab)} unique characters')"
   ]
  },
  {
   "cell_type": "markdown",
   "metadata": {},
   "source": [
    "Now we can encode the text under numerical representations..."
   ]
  },
  {
   "cell_type": "code",
   "execution_count": 6,
   "metadata": {
    "ExecuteTime": {
     "end_time": "2019-12-31T11:40:23.521015Z",
     "start_time": "2019-12-31T11:40:23.367467Z"
    }
   },
   "outputs": [],
   "source": [
    "char2idx = {char: idx for idx, char in enumerate(vocab)}\n",
    "idx2char = np.array(vocab)\n",
    "text_as_int = np.array([char2idx[char] for char in text])"
   ]
  },
  {
   "cell_type": "markdown",
   "metadata": {
    "ExecuteTime": {
     "end_time": "2019-10-10T20:40:01.538488Z",
     "start_time": "2019-10-10T20:40:01.508810Z"
    }
   },
   "source": [
    "...which looks something like the following."
   ]
  },
  {
   "cell_type": "code",
   "execution_count": 7,
   "metadata": {
    "ExecuteTime": {
     "end_time": "2019-12-31T11:40:24.180024Z",
     "start_time": "2019-12-31T11:40:24.173198Z"
    }
   },
   "outputs": [
    {
     "name": "stderr",
     "output_type": "stream",
     "text": [
      "2019-12-31 11:40:24,176 - __main__ - INFO - 'Thank you so much' ---- maps to ints ---- > [48 65 58 71 68  1 82 72 78  1 76 72  1 70 78 60 65]\n"
     ]
    }
   ],
   "source": [
    "num_chars = 17\n",
    "logger.info(f'{repr(text[:num_chars])} ---- maps to ints ---- > {text_as_int[:num_chars]}')"
   ]
  },
  {
   "cell_type": "markdown",
   "metadata": {},
   "source": [
    "## Prediction\n",
    "\n",
    "Given a character, or a sequence of characters, what is the most probable next character? This is the task we're training the model to perform. The input to the model will be a sequence of characters, and we train the model to predict the output—the following character at each time step.\n",
    "\n",
    "Since RNNs maintain an internal state that depends on the previously seen elements, given all the characters computed until this moment, what is the next character?\n",
    "\n",
    "## Create training examples and targets\n",
    "\n",
    "Next divide the text into example sequences. Each input sequence will contain ```SEQ_LENGTH``` characters from the text.\n",
    "\n",
    "For each input sequence, the corresponding targets contain the same length of text, except shifted one character to the right.\n",
    "\n",
    "So break the text into chunks of ```SEQ_LENGTH + 1```. For example, say ```SEQ_LENGTH``` is 4 and our text is ```Hello```. The input sequence would be ```Hell```, and the target sequence ```ello```.\n",
    "\n",
    "To do this first use the ```tf.data.Dataset.from_tensor_slices``` function to convert the text vector into a stream of character indices."
   ]
  },
  {
   "cell_type": "code",
   "execution_count": 8,
   "metadata": {
    "ExecuteTime": {
     "end_time": "2019-12-31T11:40:26.638607Z",
     "start_time": "2019-12-31T11:40:26.609348Z"
    }
   },
   "outputs": [],
   "source": [
    "examples_per_epoch = len(text)//(SEQ_LENGTH+1)\n",
    "\n",
    "# Create training examples/targets\n",
    "char_dataset = tf.data.Dataset.from_tensor_slices(text_as_int)"
   ]
  },
  {
   "cell_type": "markdown",
   "metadata": {},
   "source": [
    "The ```batch``` method lets us easily convert these individual characters to sequences of the desired size."
   ]
  },
  {
   "cell_type": "code",
   "execution_count": 9,
   "metadata": {
    "ExecuteTime": {
     "end_time": "2019-12-31T11:40:28.213300Z",
     "start_time": "2019-12-31T11:40:28.068090Z"
    }
   },
   "outputs": [],
   "source": [
    "sequences = char_dataset.batch(SEQ_LENGTH+1, drop_remainder=True)\n",
    "dataset = sequences.map(split_input_target)"
   ]
  },
  {
   "cell_type": "markdown",
   "metadata": {},
   "source": [
    "We used ```tf.data``` to split the text into manageable sequences. But before feeding this data into the model, we need to shuffle the data and pack it into batches."
   ]
  },
  {
   "cell_type": "code",
   "execution_count": 10,
   "metadata": {
    "ExecuteTime": {
     "end_time": "2019-12-31T11:40:29.995946Z",
     "start_time": "2019-12-31T11:40:29.987187Z"
    }
   },
   "outputs": [],
   "source": [
    "dataset = dataset.shuffle(BUFFER_SIZE).batch(BATCH_SIZE, drop_remainder=True)"
   ]
  },
  {
   "cell_type": "markdown",
   "metadata": {},
   "source": [
    "## Build the model\n",
    "Use ```tf.keras.Sequential``` to define the model. For this simple example three layers are used to define our model:\n",
    "- ```tf.keras.layers.Embedding```: The input layer. A trainable lookup table that will map the numbers of each character to a vector with ```EMBEDDING_DIM``` dimensions;\n",
    "- ```tf.keras.layers.GRU```: A type of RNN with size units=```RNN_UNITS``` (You can also use a LSTM layer here.)\n",
    "- ```tf.keras.layers.Dense```: The output layer, with ```VOCAB_SIZE``` outputs.\n",
    "\n",
    "For each character the model looks up the embedding, runs the GRU one timestep with the embedding as input, and applies the dense layer to generate logits predicting the log-likelihood of the next character."
   ]
  },
  {
   "cell_type": "code",
   "execution_count": 11,
   "metadata": {
    "ExecuteTime": {
     "end_time": "2019-12-31T11:40:31.891534Z",
     "start_time": "2019-12-31T11:40:31.559287Z"
    }
   },
   "outputs": [],
   "source": [
    "model = build_model(\n",
    "    VOCAB_SIZE,\n",
    "    EMBEDDING_DIM,\n",
    "    RNN_UNITS,\n",
    "    BATCH_SIZE\n",
    ")"
   ]
  },
  {
   "cell_type": "code",
   "execution_count": 12,
   "metadata": {
    "ExecuteTime": {
     "end_time": "2019-12-31T11:40:32.220566Z",
     "start_time": "2019-12-31T11:40:32.209579Z"
    }
   },
   "outputs": [
    {
     "name": "stdout",
     "output_type": "stream",
     "text": [
      "Model: \"sequential\"\n",
      "_________________________________________________________________\n",
      "Layer (type)                 Output Shape              Param #   \n",
      "=================================================================\n",
      "embedding (Embedding)        (64, None, 256)           23552     \n",
      "_________________________________________________________________\n",
      "gru (GRU)                    (64, None, 1024)          3938304   \n",
      "_________________________________________________________________\n",
      "dense (Dense)                (64, None, 92)            94300     \n",
      "=================================================================\n",
      "Total params: 4,056,156\n",
      "Trainable params: 4,056,156\n",
      "Non-trainable params: 0\n",
      "_________________________________________________________________\n"
     ]
    }
   ],
   "source": [
    "model.summary()"
   ]
  },
  {
   "cell_type": "markdown",
   "metadata": {},
   "source": [
    "## Train the model\n",
    "At this point the problem can be treated as a standard classification problem. Given the previous RNN state, and the input this time step, predict the class of the next character.\n",
    "\n",
    "## Attach an optimizer, and a loss function\n",
    "The standard ```tf.keras.losses.sparse_categorical_crossentropy``` loss function works in this case because it is applied across the last dimension of the predictions.\n",
    "\n",
    "Because our model returns logits, we need to set the ```from_logits``` flag."
   ]
  },
  {
   "cell_type": "code",
   "execution_count": 14,
   "metadata": {
    "ExecuteTime": {
     "end_time": "2019-12-31T11:40:38.861188Z",
     "start_time": "2019-12-31T11:40:38.814720Z"
    }
   },
   "outputs": [],
   "source": [
    "model.compile(\n",
    "    optimizer=tf.keras.optimizers.Adam(),\n",
    "    loss=loss_func\n",
    ")"
   ]
  },
  {
   "cell_type": "code",
   "execution_count": 15,
   "metadata": {
    "ExecuteTime": {
     "end_time": "2019-12-31T11:40:39.854594Z",
     "start_time": "2019-12-31T11:40:39.850320Z"
    }
   },
   "outputs": [],
   "source": [
    "# callbacks\n",
    "checkpoint_callback = get_checkpoint_callback(CKPT_DIR)\n",
    "tensorboard_callback = get_tensorboard_callback()"
   ]
  },
  {
   "cell_type": "markdown",
   "metadata": {},
   "source": [
    "Now let's fit the model!"
   ]
  },
  {
   "cell_type": "code",
   "execution_count": 16,
   "metadata": {
    "ExecuteTime": {
     "end_time": "2019-12-31T15:05:47.882867Z",
     "start_time": "2019-12-31T11:40:40.835224Z"
    },
    "scrolled": true
   },
   "outputs": [
    {
     "name": "stdout",
     "output_type": "stream",
     "text": [
      "Epoch 1/30\n",
      "138/138 [==============================] - 449s 3s/step - loss: 2.8226\n",
      "Epoch 2/30\n",
      "138/138 [==============================] - 502s 4s/step - loss: 1.9505\n",
      "Epoch 3/30\n",
      "138/138 [==============================] - 531s 4s/step - loss: 1.6094\n",
      "Epoch 4/30\n",
      "138/138 [==============================] - 461s 3s/step - loss: 1.4054\n",
      "Epoch 5/30\n",
      "138/138 [==============================] - 477s 3s/step - loss: 1.2853\n",
      "Epoch 6/30\n",
      "138/138 [==============================] - 396s 3s/step - loss: 1.2063\n",
      "Epoch 7/30\n",
      "138/138 [==============================] - 397s 3s/step - loss: 1.1474\n",
      "Epoch 8/30\n",
      "138/138 [==============================] - 391s 3s/step - loss: 1.0995\n",
      "Epoch 9/30\n",
      "138/138 [==============================] - 382s 3s/step - loss: 1.0589\n",
      "Epoch 10/30\n",
      "138/138 [==============================] - 383s 3s/step - loss: 1.0221\n",
      "Epoch 11/30\n",
      "138/138 [==============================] - 385s 3s/step - loss: 0.9869\n",
      "Epoch 12/30\n",
      "138/138 [==============================] - 384s 3s/step - loss: 0.9535\n",
      "Epoch 13/30\n",
      "138/138 [==============================] - 381s 3s/step - loss: 0.9202\n",
      "Epoch 14/30\n",
      "138/138 [==============================] - 399s 3s/step - loss: 0.8884\n",
      "Epoch 15/30\n",
      "138/138 [==============================] - 499s 4s/step - loss: 0.8558\n",
      "Epoch 16/30\n",
      "138/138 [==============================] - 480s 3s/step - loss: 0.8231\n",
      "Epoch 17/30\n",
      "138/138 [==============================] - 444s 3s/step - loss: 0.7915\n",
      "Epoch 18/30\n",
      "138/138 [==============================] - 422s 3s/step - loss: 0.7617\n",
      "Epoch 19/30\n",
      "138/138 [==============================] - 408s 3s/step - loss: 0.7321\n",
      "Epoch 20/30\n",
      "138/138 [==============================] - 379s 3s/step - loss: 0.7034\n",
      "Epoch 21/30\n",
      "138/138 [==============================] - 377s 3s/step - loss: 0.6765\n",
      "Epoch 22/30\n",
      "138/138 [==============================] - 377s 3s/step - loss: 0.6506\n",
      "Epoch 23/30\n",
      "138/138 [==============================] - 375s 3s/step - loss: 0.6252\n",
      "Epoch 24/30\n",
      "138/138 [==============================] - 374s 3s/step - loss: 0.6060\n",
      "Epoch 25/30\n",
      "138/138 [==============================] - 374s 3s/step - loss: 0.5863\n",
      "Epoch 26/30\n",
      "138/138 [==============================] - 375s 3s/step - loss: 0.5705\n",
      "Epoch 27/30\n",
      "138/138 [==============================] - 377s 3s/step - loss: 0.5538\n",
      "Epoch 28/30\n",
      "138/138 [==============================] - 377s 3s/step - loss: 0.5401\n",
      "Epoch 29/30\n",
      "138/138 [==============================] - 376s 3s/step - loss: 0.5293\n",
      "Epoch 30/30\n",
      "138/138 [==============================] - 377s 3s/step - loss: 0.5185\n"
     ]
    }
   ],
   "source": [
    "history = model.fit(\n",
    "    dataset,\n",
    "    epochs=EPOCHS,\n",
    "    callbacks=[checkpoint_callback, tensorboard_callback]\n",
    ")"
   ]
  },
  {
   "cell_type": "markdown",
   "metadata": {},
   "source": [
    "## Generate text\n",
    "### Restore the latest checkpoint\n",
    "To keep this prediction step simple, use a batch size of 1.\n",
    "\n",
    "Because of the way the RNN state is passed from timestep to timestep, the model only accepts a fixed batch size once built.\n",
    "\n",
    "To run the model with a different batch_size, we need to rebuild the model and restore the weights from the checkpoint."
   ]
  },
  {
   "cell_type": "code",
   "execution_count": 26,
   "metadata": {
    "ExecuteTime": {
     "end_time": "2019-12-31T16:40:54.205570Z",
     "start_time": "2019-12-31T16:40:54.196215Z"
    }
   },
   "outputs": [
    {
     "data": {
      "text/plain": [
       "'training_checkpoints/ckpt_30'"
      ]
     },
     "execution_count": 26,
     "metadata": {},
     "output_type": "execute_result"
    }
   ],
   "source": [
    "tf.train.latest_checkpoint(CKPT_DIR)"
   ]
  },
  {
   "cell_type": "code",
   "execution_count": 27,
   "metadata": {
    "ExecuteTime": {
     "end_time": "2019-12-31T16:40:55.587412Z",
     "start_time": "2019-12-31T16:40:55.300385Z"
    }
   },
   "outputs": [],
   "source": [
    "model = build_model(\n",
    "    VOCAB_SIZE, \n",
    "    EMBEDDING_DIM, \n",
    "    RNN_UNITS, \n",
    "    batch_size=1\n",
    ")\n",
    "\n",
    "model.load_weights(tf.train.latest_checkpoint(CKPT_DIR))\n",
    "\n",
    "model.build(tf.TensorShape([1, None]))"
   ]
  },
  {
   "cell_type": "code",
   "execution_count": 28,
   "metadata": {
    "ExecuteTime": {
     "end_time": "2019-12-31T16:40:57.040981Z",
     "start_time": "2019-12-31T16:40:57.034188Z"
    }
   },
   "outputs": [
    {
     "name": "stdout",
     "output_type": "stream",
     "text": [
      "Model: \"sequential_4\"\n",
      "_________________________________________________________________\n",
      "Layer (type)                 Output Shape              Param #   \n",
      "=================================================================\n",
      "embedding_4 (Embedding)      (1, None, 256)            23552     \n",
      "_________________________________________________________________\n",
      "gru_4 (GRU)                  (1, None, 1024)           3938304   \n",
      "_________________________________________________________________\n",
      "dense_4 (Dense)              (1, None, 92)             94300     \n",
      "=================================================================\n",
      "Total params: 4,056,156\n",
      "Trainable params: 4,056,156\n",
      "Non-trainable params: 0\n",
      "_________________________________________________________________\n"
     ]
    }
   ],
   "source": [
    "model.summary()"
   ]
  },
  {
   "cell_type": "markdown",
   "metadata": {},
   "source": [
    "## The prediction loop\n",
    "The following code block generates the text:\n",
    "- It starts by choosing a start string, initializing the RNN state and setting the number of characters to generate.\n",
    "- Get the prediction distribution of the next character using the start string and the RNN state.\n",
    "- Then, use a categorical distribution to calculate the index of the predicted character. Use this predicted character as our next input to the model.\n",
    "- The RNN state returned by the model is fed back into the model so that it now has more context, instead than only one word. After predicting the next word, the modified RNN states are again fed back into the model, which is how it learns as it gets more context from the previously predicted words.\n",
    "\n",
    "Looking at the generated text, you'll see the model knows when to capitalize, make paragraphs and imitates a Trump-like writing vocabulary. With the small number of training epochs, it has not yet learned to form coherent sentences."
   ]
  },
  {
   "cell_type": "code",
   "execution_count": 33,
   "metadata": {
    "ExecuteTime": {
     "end_time": "2019-12-31T17:34:25.775708Z",
     "start_time": "2019-12-31T17:34:17.512516Z"
    }
   },
   "outputs": [
    {
     "name": "stdout",
     "output_type": "stream",
     "text": [
      "I have the best mind and some people are going to be a much bigger party. Our party a fortune. I think we’re going to have some more coming in. And we’re going to start making Apple computers in this country. What the hell did we get? We sell them beef.\n",
      "And then he took one who was a proven history of terrorism against the United States and make it great again. It’s not going to happen. Not going to happen.\n",
      "I said what the hell does that help us? When does it help us? Where they have a baby, walks across the border. They’re destroying our country with a great financial statement. But we’re not going to let Carrier make air conditioners, fired basic party and somebody said, \"Well, there’s a lot of stuff from John Deere because I really don’t know what they’re doing. He used the wrong kind of thing. That’s what we we have. They won’t understand it. They don’t want to be the next day the heads of this country. He said, \"No, no, it’s true. It’s true.\n",
      "Right?\n",
      "Everybody said he’s a fantastic executive order on im\n"
     ]
    }
   ],
   "source": [
    "sample_text = generate_text(model, \"I have the best mind \", char2idx, idx2char)\n",
    "print(sample_text)"
   ]
  },
  {
   "cell_type": "markdown",
   "metadata": {},
   "source": [
    "The easiest thing you can do to improve the results it to train it for longer.\n",
    "\n",
    "You can also experiment with a different start string, or try adding another RNN layer to improve the model's accuracy, or adjusting the temperature parameter to generate more or less random predictions."
   ]
  },
  {
   "cell_type": "markdown",
   "metadata": {},
   "source": [
    "# Embeddings in TensorBoard"
   ]
  },
  {
   "cell_type": "code",
   "execution_count": 36,
   "metadata": {
    "ExecuteTime": {
     "end_time": "2020-01-11T17:16:08.468017Z",
     "start_time": "2020-01-11T17:16:08.452710Z"
    }
   },
   "outputs": [],
   "source": [
    "# model.load_weigths(tf.train.latest_checkpoint(CKPT_DIR))"
   ]
  },
  {
   "cell_type": "markdown",
   "metadata": {},
   "source": [
    "# References"
   ]
  },
  {
   "cell_type": "markdown",
   "metadata": {
    "ExecuteTime": {
     "end_time": "2019-12-31T15:05:48.009192Z",
     "start_time": "2019-12-31T15:05:48.002610Z"
    }
   },
   "source": [
    "- [Text generation with an RNN; TensorFlow](https://www.tensorflow.org/tutorials/text/text_generation)"
   ]
  }
 ],
 "metadata": {
  "kernelspec": {
   "display_name": "Python 3",
   "language": "python",
   "name": "python3"
  },
  "language_info": {
   "codemirror_mode": {
    "name": "ipython",
    "version": 3
   },
   "file_extension": ".py",
   "mimetype": "text/x-python",
   "name": "python",
   "nbconvert_exporter": "python",
   "pygments_lexer": "ipython3",
   "version": "3.7.5"
  },
  "varInspector": {
   "cols": {
    "lenName": 16,
    "lenType": 16,
    "lenVar": 40
   },
   "kernels_config": {
    "python": {
     "delete_cmd_postfix": "",
     "delete_cmd_prefix": "del ",
     "library": "var_list.py",
     "varRefreshCmd": "print(var_dic_list())"
    },
    "r": {
     "delete_cmd_postfix": ") ",
     "delete_cmd_prefix": "rm(",
     "library": "var_list.r",
     "varRefreshCmd": "cat(var_dic_list()) "
    }
   },
   "types_to_exclude": [
    "module",
    "function",
    "builtin_function_or_method",
    "instance",
    "_Feature"
   ],
   "window_display": false
  }
 },
 "nbformat": 4,
 "nbformat_minor": 2
}
